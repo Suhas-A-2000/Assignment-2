{
 "cells": [
  {
   "cell_type": "raw",
   "metadata": {},
   "source": [
    "# Question 1:"
   ]
  },
  {
   "cell_type": "code",
   "execution_count": 1,
   "metadata": {},
   "outputs": [
    {
     "name": "stdout",
     "output_type": "stream",
     "text": [
      "Enter the number: 1\n",
      "Enter the number: 3\n",
      "Enter the number: 2\n",
      "Enter the number: 4\n",
      "Enter the number: 6\n",
      "Enter the number: 5\n",
      "Enter the number: 7\n",
      "Enter the number: 9\n",
      "Enter the number: 8\n",
      "Enter the number: 21\n",
      "[2, 4, 6, 8]\n"
     ]
    }
   ],
   "source": [
    "list1 = []\n",
    "for i in range(0,10):\n",
    "    number = int(input(\"Enter the number: \"))\n",
    "    if (number%2 == 0):\n",
    "        list1.append(number)\n",
    "print(list1)"
   ]
  },
  {
   "cell_type": "markdown",
   "metadata": {},
   "source": [
    "Question 2"
   ]
  },
  {
   "cell_type": "code",
   "execution_count": 4,
   "metadata": {},
   "outputs": [
    {
     "name": "stdout",
     "output_type": "stream",
     "text": [
      "4\n",
      "[0, 2]\n"
     ]
    }
   ],
   "source": [
    "# List Comprehensions\n",
    "\n",
    "n = int(input())\n",
    "li = [i for i in range(n) if i%2==0]\n",
    "print(li)"
   ]
  },
  {
   "cell_type": "code",
   "execution_count": 5,
   "metadata": {},
   "outputs": [
    {
     "name": "stdout",
     "output_type": "stream",
     "text": [
      "[[0, 1, 4, 9], [0, 1, 4, 9], [0, 1, 4, 9], [0, 1, 4, 9]]\n"
     ]
    }
   ],
   "source": [
    "# list in list\n",
    "\n",
    "board = [[i*i for i in range(4)] for j in range(4)]\n",
    "print(board)"
   ]
  },
  {
   "cell_type": "markdown",
   "metadata": {},
   "source": [
    "Question 3"
   ]
  },
  {
   "cell_type": "code",
   "execution_count": 10,
   "metadata": {},
   "outputs": [
    {
     "name": "stdout",
     "output_type": "stream",
     "text": [
      "Enter the number: 4\n",
      "{1: 1, 2: 4, 3: 9, 4: 16}\n"
     ]
    }
   ],
   "source": [
    "# dictionary\n",
    "\n",
    "dic_d = {}\n",
    "number = int(input(\"Enter the number: \"))\n",
    "for i in range(1,number+1):\n",
    "    dic_d.update({i: i*i})\n",
    "print(dic_d)"
   ]
  },
  {
   "cell_type": "markdown",
   "metadata": {},
   "source": [
    "Question 4"
   ]
  },
  {
   "cell_type": "code",
   "execution_count": 14,
   "metadata": {},
   "outputs": [
    {
     "name": "stdout",
     "output_type": "stream",
     "text": [
      "4\n",
      "Enter the directionup\n",
      "Enter the step size5\n",
      "Enter the directiondown\n",
      "Enter the step size3\n",
      "Enter the directionleft\n",
      "Enter the step size3\n",
      "Enter the directionright\n",
      "Enter the step size2\n",
      "UP 5\n",
      "DOWN 3\n",
      "LEFT 3\n",
      "RIGHT 2\n",
      "2\n"
     ]
    }
   ],
   "source": [
    "import math \n",
    "\n",
    "lis = []\n",
    "lis1 = []\n",
    "x1, y1 = 0, 0\n",
    "number = int(input())\n",
    "if number >= 5:\n",
    "    exit()\n",
    "else:\n",
    "    for i in range(number):\n",
    "        direction = input(\"Enter direction: \")\n",
    "        lis.append(direction.upper())\n",
    "        step = int(input(\"Enter step size: \"))\n",
    "        lis1.append(step)\n",
    "    for item in range(number):\n",
    "        print(lis[item], lis1[item])\n",
    "    x2 = lis1[0] - lis1[1]\n",
    "    y2 = lis1[2] - lis1[3]\n",
    "    distance = math.sqrt(pow((x2-x1),2) + pow((y2-y1),2))\n",
    "    print(round(distance))"
   ]
  }
 ],
 "metadata": {
  "kernelspec": {
   "display_name": "Python 3",
   "language": "python",
   "name": "python3"
  },
  "language_info": {
   "codemirror_mode": {
    "name": "ipython",
    "version": 3
   },
   "file_extension": ".py",
   "mimetype": "text/x-python",
   "name": "python",
   "nbconvert_exporter": "python",
   "pygments_lexer": "ipython3",
   "version": "3.8.3"
  }
 },
 "nbformat": 4,
 "nbformat_minor": 4
}
